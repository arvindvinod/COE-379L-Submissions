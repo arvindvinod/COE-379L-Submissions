{
 "cells": [
  {
   "cell_type": "code",
   "execution_count": 1,
   "id": "4c2c33ff-89a4-4c81-a1f3-6854f15caca6",
   "metadata": {},
   "outputs": [
    {
     "name": "stderr",
     "output_type": "stream",
     "text": [
      "2025-04-15 19:11:23.575786: I external/local_tsl/tsl/cuda/cudart_stub.cc:31] Could not find cuda drivers on your machine, GPU will not be used.\n",
      "2025-04-15 19:11:23.618418: E external/local_xla/xla/stream_executor/cuda/cuda_dnn.cc:9261] Unable to register cuDNN factory: Attempting to register factory for plugin cuDNN when one has already been registered\n",
      "2025-04-15 19:11:23.618460: E external/local_xla/xla/stream_executor/cuda/cuda_fft.cc:607] Unable to register cuFFT factory: Attempting to register factory for plugin cuFFT when one has already been registered\n",
      "2025-04-15 19:11:23.620086: E external/local_xla/xla/stream_executor/cuda/cuda_blas.cc:1515] Unable to register cuBLAS factory: Attempting to register factory for plugin cuBLAS when one has already been registered\n",
      "2025-04-15 19:11:23.627929: I external/local_tsl/tsl/cuda/cudart_stub.cc:31] Could not find cuda drivers on your machine, GPU will not be used.\n",
      "2025-04-15 19:11:23.628317: I tensorflow/core/platform/cpu_feature_guard.cc:182] This TensorFlow binary is optimized to use available CPU instructions in performance-critical operations.\n",
      "To enable the following instructions: AVX2 FMA, in other operations, rebuild TensorFlow with the appropriate compiler flags.\n",
      "2025-04-15 19:11:24.577637: W tensorflow/compiler/tf2tensorrt/utils/py_utils.cc:38] TF-TRT Warning: Could not find TensorRT\n"
     ]
    }
   ],
   "source": [
    "import os\n",
    "import shutil\n",
    "import random\n",
    "from pathlib import Path\n",
    "import tensorflow as tf\n",
    "import numpy as np\n",
    "from tensorflow.keras.layers.experimental.preprocessing import Rescaling\n",
    "from tensorflow.keras import models, layers, optimizers"
   ]
  },
  {
   "cell_type": "code",
   "execution_count": 2,
   "id": "26c8f2d4-860a-41b6-8f99-a7b824fe3716",
   "metadata": {},
   "outputs": [],
   "source": [
    "img_height, img_width = 150, 150\n",
    "batch_size = 32"
   ]
  },
  {
   "cell_type": "code",
   "execution_count": 3,
   "id": "014979e8-52f8-4d2a-a9dd-ccbf2015e7e5",
   "metadata": {},
   "outputs": [],
   "source": [
    "random.seed(42)\n",
    "tf.random.set_seed(42)\n",
    "np.random.seed(42)\n",
    "# Reproduceable Randoms"
   ]
  },
  {
   "cell_type": "code",
   "execution_count": 4,
   "id": "36095dbe-9b63-4695-83f2-be887bf49c40",
   "metadata": {},
   "outputs": [],
   "source": [
    "data_dir = \"data\"\n",
    "damage_path = os.path.join(data_dir, \"damage\")\n",
    "no_damage_path = os.path.join(data_dir, \"no_damage\")"
   ]
  },
  {
   "cell_type": "code",
   "execution_count": 5,
   "id": "eb66ada4-c684-40cf-b594-89f309761e63",
   "metadata": {},
   "outputs": [
    {
     "name": "stdout",
     "output_type": "stream",
     "text": [
      "Damaged images count: 14170\n",
      "No-damage images count: 7152\n"
     ]
    }
   ],
   "source": [
    "print(f\"Damaged images count: {len(os.listdir(damage_path))}\")\n",
    "print(f\"No-damage images count: {len(os.listdir(no_damage_path))}\")"
   ]
  },
  {
   "cell_type": "code",
   "execution_count": 6,
   "id": "ee9f06eb-7373-4968-b196-25899a72a419",
   "metadata": {},
   "outputs": [],
   "source": [
    "split_dir = \"data/split\"\n",
    "try:\n",
    "    shutil.rmtree(split_dir)\n",
    "except:\n",
    "    pass"
   ]
  },
  {
   "cell_type": "code",
   "execution_count": 7,
   "id": "0f6f5d41-1b6f-4435-bfd7-8c514b3c5a92",
   "metadata": {},
   "outputs": [],
   "source": [
    "Path(f\"{split_dir}/train/damage\").mkdir(parents=True, exist_ok=True)\n",
    "Path(f\"{split_dir}/train/no_damage\").mkdir(parents=True, exist_ok=True)\n",
    "Path(f\"{split_dir}/val/damage\").mkdir(parents=True, exist_ok=True)\n",
    "Path(f\"{split_dir}/val/no_damage\").mkdir(parents=True, exist_ok=True)\n",
    "Path(f\"{split_dir}/test/damage\").mkdir(parents=True, exist_ok=True)\n",
    "Path(f\"{split_dir}/test/no_damage\").mkdir(parents=True, exist_ok=True)"
   ]
  },
  {
   "cell_type": "code",
   "execution_count": 8,
   "id": "c82af253-665f-4ebd-99b5-505bb958f94a",
   "metadata": {},
   "outputs": [],
   "source": [
    "image_extensions = ('.jpg', '.jpeg')\n",
    "\n",
    "damage_files = [\n",
    "    f for f in os.listdir(damage_path)\n",
    "    if f.lower().endswith(image_extensions) and os.path.isfile(os.path.join(damage_path, f))\n",
    "]\n",
    "\n",
    "no_damage_files = [\n",
    "    f for f in os.listdir(no_damage_path)\n",
    "    if f.lower().endswith(image_extensions) and os.path.isfile(os.path.join(no_damage_path, f))\n",
    "]"
   ]
  },
  {
   "cell_type": "code",
   "execution_count": 9,
   "id": "5581c48f-a8ed-427a-8e82-c954b5b8dcca",
   "metadata": {},
   "outputs": [],
   "source": [
    "random.shuffle(damage_files)\n",
    "random.shuffle(no_damage_files)"
   ]
  },
  {
   "cell_type": "code",
   "execution_count": 11,
   "id": "fff437fa-022e-4a76-a951-2523201dc50e",
   "metadata": {},
   "outputs": [],
   "source": [
    "damage_train_end = int(0.7 * len(damage_files))\n",
    "damage_val_end = damage_train_end + int(0.15 * len(damage_files))"
   ]
  },
  {
   "cell_type": "code",
   "execution_count": 12,
   "id": "82496e91-b771-4b1c-91ee-c012c84a0ca1",
   "metadata": {},
   "outputs": [],
   "source": [
    "damage_train = damage_files[:damage_train_end]\n",
    "damage_val = damage_files[damage_train_end:damage_val_end]\n",
    "damage_test = damage_files[damage_val_end:]"
   ]
  },
  {
   "cell_type": "code",
   "execution_count": 13,
   "id": "0705f328-0be1-4447-8a13-351d580ea8d5",
   "metadata": {},
   "outputs": [],
   "source": [
    "no_damage_train_end = int(0.7 * len(no_damage_files))\n",
    "no_damage_val_end = no_damage_train_end + int(0.15 * len(no_damage_files))"
   ]
  },
  {
   "cell_type": "code",
   "execution_count": 14,
   "id": "2afec350-0040-4b6c-9703-926862759910",
   "metadata": {},
   "outputs": [],
   "source": [
    "no_damage_train = no_damage_files[:no_damage_train_end]\n",
    "no_damage_val = no_damage_files[no_damage_train_end:no_damage_val_end]\n",
    "no_damage_test = no_damage_files[no_damage_val_end:]"
   ]
  },
  {
   "cell_type": "code",
   "execution_count": 15,
   "id": "50255387-1c64-4c9d-832c-5b88c164896f",
   "metadata": {},
   "outputs": [],
   "source": [
    "for file in damage_train:\n",
    "    shutil.copyfile(os.path.join(damage_path, file),\n",
    "                   os.path.join(split_dir, \"train/damage\", file))\n",
    "\n",
    "for file in damage_val:\n",
    "    shutil.copyfile(os.path.join(damage_path, file),\n",
    "                   os.path.join(split_dir, \"val/damage\", file))\n",
    "\n",
    "for file in damage_test:\n",
    "    shutil.copyfile(os.path.join(damage_path, file),\n",
    "                   os.path.join(split_dir, \"test/damage\", file))\n",
    "\n",
    "# No Damage - Train, Val, Test\n",
    "for file in no_damage_train:\n",
    "    shutil.copyfile(os.path.join(no_damage_path, file),\n",
    "                   os.path.join(split_dir, \"train/no_damage\", file))\n",
    "\n",
    "for file in no_damage_val:\n",
    "    shutil.copyfile(os.path.join(no_damage_path, file),\n",
    "                   os.path.join(split_dir, \"val/no_damage\", file))\n",
    "\n",
    "for file in no_damage_test:\n",
    "    shutil.copyfile(os.path.join(no_damage_path, file),\n",
    "                   os.path.join(split_dir, \"test/no_damage\", file))"
   ]
  },
  {
   "cell_type": "code",
   "execution_count": 16,
   "id": "72d062f3-c609-4863-990e-a3dc18a67655",
   "metadata": {},
   "outputs": [
    {
     "name": "stdout",
     "output_type": "stream",
     "text": [
      "Train - Damage: 9919, No-damage: 5006\n",
      "Val - Damage: 2125, No-damage: 1072\n",
      "Test - Damage: 2126, No-damage: 1074\n"
     ]
    }
   ],
   "source": [
    "print(f\"Train - Damage: {len(damage_train)}, No-damage: {len(no_damage_train)}\")\n",
    "print(f\"Val - Damage: {len(damage_val)}, No-damage: {len(no_damage_val)}\")\n",
    "print(f\"Test - Damage: {len(damage_test)}, No-damage: {len(no_damage_test)}\")"
   ]
  },
  {
   "cell_type": "code",
   "execution_count": 17,
   "id": "2a809aee-f467-4f0f-8277-cf22ef637707",
   "metadata": {},
   "outputs": [],
   "source": [
    "total_damage = len(damage_files)\n",
    "total_no_damage = len(no_damage_files)\n",
    "total = total_damage + total_no_damage"
   ]
  },
  {
   "cell_type": "code",
   "execution_count": 18,
   "id": "26d107ca-8dfa-411b-afbd-f625c737a9fb",
   "metadata": {},
   "outputs": [],
   "source": [
    "weight_for_0 = (1 / total_damage) * (total / 2) \n",
    "weight_for_1 = (1 / total_no_damage) * (total / 2)"
   ]
  },
  {
   "cell_type": "code",
   "execution_count": 19,
   "id": "282f1963-bf36-42b4-8b42-5e87cf499f5b",
   "metadata": {},
   "outputs": [
    {
     "name": "stdout",
     "output_type": "stream",
     "text": [
      "Class weights - Damage: 0.7524, No-damage: 1.4906\n"
     ]
    }
   ],
   "source": [
    "class_weight = {0: weight_for_0, 1: weight_for_1}\n",
    "print(f\"Class weights - Damage: {weight_for_0:.4f}, No-damage: {weight_for_1:.4f}\")"
   ]
  },
  {
   "cell_type": "code",
   "execution_count": 20,
   "id": "aec5563a-04f2-475f-8786-1ec7ebc82dcb",
   "metadata": {},
   "outputs": [
    {
     "name": "stdout",
     "output_type": "stream",
     "text": [
      "Found 14925 files belonging to 2 classes.\n"
     ]
    }
   ],
   "source": [
    "train_ds = tf.keras.utils.image_dataset_from_directory(\n",
    "    f\"{split_dir}/train\",\n",
    "    seed=123,\n",
    "    image_size=(img_height, img_width),\n",
    "    batch_size=batch_size\n",
    ")"
   ]
  },
  {
   "cell_type": "code",
   "execution_count": 22,
   "id": "73163851-eb17-44f9-90d0-5f1064fdce17",
   "metadata": {},
   "outputs": [
    {
     "name": "stdout",
     "output_type": "stream",
     "text": [
      "Found 3200 files belonging to 2 classes.\n"
     ]
    }
   ],
   "source": [
    "test_ds = tf.keras.utils.image_dataset_from_directory(\n",
    "    f\"{split_dir}/test\",\n",
    "    seed=123,\n",
    "    image_size=(img_height, img_width),\n",
    "    batch_size=batch_size\n",
    ")"
   ]
  },
  {
   "cell_type": "code",
   "execution_count": 23,
   "id": "84980ee5-2802-44ef-9a1e-3c83f09e6d48",
   "metadata": {},
   "outputs": [
    {
     "name": "stdout",
     "output_type": "stream",
     "text": [
      "\n",
      "Class names: ['damage', 'no_damage']\n"
     ]
    }
   ],
   "source": [
    "class_names = train_ds.class_names\n",
    "print(\"\\nClass names:\", class_names)"
   ]
  },
  {
   "cell_type": "code",
   "execution_count": 24,
   "id": "cbc499ca-c81c-4ad1-8ce2-8e601f4ecff2",
   "metadata": {},
   "outputs": [],
   "source": [
    "data_augmentation = tf.keras.Sequential([\n",
    "    tf.keras.layers.RandomFlip(\"horizontal\"),\n",
    "    tf.keras.layers.RandomRotation(0.1),\n",
    "    tf.keras.layers.RandomZoom(0.1),\n",
    "    tf.keras.layers.RandomTranslation(0.1, 0.1)\n",
    "])"
   ]
  },
  {
   "cell_type": "code",
   "execution_count": 25,
   "id": "c7d48595-0fe0-4cc5-9588-c4d432529f31",
   "metadata": {},
   "outputs": [],
   "source": [
    "rescale = Rescaling(scale=1./255)"
   ]
  },
  {
   "cell_type": "code",
   "execution_count": 26,
   "id": "ede5ef34-5ff3-4c37-8ff4-c308b77689b0",
   "metadata": {},
   "outputs": [],
   "source": [
    "def augment_and_rescale_train(x, y):\n",
    "    x = data_augmentation(x)\n",
    "    return rescale(x), y"
   ]
  },
  {
   "cell_type": "code",
   "execution_count": 27,
   "id": "d4b06707-497f-4ff8-bec7-3c75ee8a213f",
   "metadata": {},
   "outputs": [],
   "source": [
    "train_ds = train_ds.map(augment_and_rescale_train)\n",
    "val_ds = val_ds.map(lambda x, y: (rescale(x), y))\n",
    "test_ds = test_ds.map(lambda x, y: (rescale(x), y))"
   ]
  },
  {
   "cell_type": "code",
   "execution_count": 28,
   "id": "2d6d1e07-7ded-4952-8cc7-928affafc828",
   "metadata": {},
   "outputs": [],
   "source": [
    "train_ds = train_ds.prefetch(buffer_size=tf.data.AUTOTUNE)\n",
    "val_ds = val_ds.prefetch(buffer_size=tf.data.AUTOTUNE)\n",
    "test_ds = test_ds.prefetch(buffer_size=tf.data.AUTOTUNE)"
   ]
  },
  {
   "cell_type": "code",
   "execution_count": 29,
   "id": "1f1d9df1-f00b-4ae6-beb7-926de0f2fd6a",
   "metadata": {},
   "outputs": [],
   "source": [
    "early_stopping = tf.keras.callbacks.EarlyStopping(\n",
    "    monitor='val_loss',\n",
    "    patience=5,\n",
    "    restore_best_weights=True,\n",
    "    verbose=1\n",
    ")"
   ]
  },
  {
   "cell_type": "code",
   "execution_count": 30,
   "id": "95ea89c6-f635-4857-9322-30cf7cc6d577",
   "metadata": {},
   "outputs": [],
   "source": [
    "def scheduler(epoch, lr):\n",
    "    if epoch < 10:\n",
    "        return lr\n",
    "    else:\n",
    "        return lr * tf.math.exp(-0.1)\n",
    "        \n",
    "lr_scheduler = tf.keras.callbacks.LearningRateScheduler(scheduler)"
   ]
  },
  {
   "cell_type": "code",
   "execution_count": 31,
   "id": "a7c66436-8ccd-4a0b-92c9-af9c276b8b7d",
   "metadata": {},
   "outputs": [],
   "source": [
    "best_model_checkpoint = tf.keras.callbacks.ModelCheckpoint(\n",
    "    'best_model.h5',\n",
    "    monitor='val_loss',\n",
    "    save_best_only=True,\n",
    "    verbose=1\n",
    ")\n"
   ]
  },
  {
   "cell_type": "code",
   "execution_count": 32,
   "id": "5bb51c91-a4e1-4fa4-9c06-f8e04b251f5b",
   "metadata": {},
   "outputs": [],
   "source": [
    "model_dense = models.Sequential()\n",
    "model_dense.add(layers.Flatten(input_shape=(150, 150, 3)))\n",
    "model_dense.add(layers.Dense(256, activation='relu'))\n",
    "model_dense.add(layers.Dropout(0.5))\n",
    "model_dense.add(layers.Dense(128, activation='relu'))\n",
    "model_dense.add(layers.Dropout(0.3))\n",
    "model_dense.add(layers.Dense(1, activation='sigmoid'))"
   ]
  },
  {
   "cell_type": "code",
   "execution_count": 33,
   "id": "7ede2bd1-9b29-4863-bab5-e02341937360",
   "metadata": {},
   "outputs": [],
   "source": [
    "model_dense.compile(\n",
    "    optimizer=optimizers.Adam(learning_rate=1e-4),\n",
    "    loss='binary_crossentropy',\n",
    "    metrics=[\n",
    "        'accuracy',\n",
    "        tf.keras.metrics.AUC(name='auc'),\n",
    "        tf.keras.metrics.Precision(name='precision'),\n",
    "        tf.keras.metrics.Recall(name='recall')\n",
    "    ]\n",
    ")"
   ]
  },
  {
   "cell_type": "code",
   "execution_count": 34,
   "id": "00cd16ec-2c82-44b6-bcda-ca8c3ab2fd77",
   "metadata": {},
   "outputs": [
    {
     "name": "stdout",
     "output_type": "stream",
     "text": [
      "Epoch 1/5\n",
      "467/467 [==============================] - ETA: 0s - loss: 0.7446 - accuracy: 0.4879 - auc: 0.5065 - precision: 0.3345 - recall: 0.5324\n",
      "Epoch 1: val_loss improved from inf to 0.69328, saving model to best_dense_model.h5\n"
     ]
    },
    {
     "name": "stderr",
     "output_type": "stream",
     "text": [
      "/usr/local/lib/python3.11/site-packages/keras/src/engine/training.py:3103: UserWarning: You are saving your model as an HDF5 file via `model.save()`. This file format is considered legacy. We recommend using instead the native Keras format, e.g. `model.save('my_model.keras')`.\n",
      "  saving_api.save_model(\n"
     ]
    },
    {
     "name": "stdout",
     "output_type": "stream",
     "text": [
      "467/467 [==============================] - 68s 144ms/step - loss: 0.7446 - accuracy: 0.4879 - auc: 0.5065 - precision: 0.3345 - recall: 0.5324 - val_loss: 0.6933 - val_accuracy: 0.3356 - val_auc: 0.5002 - val_precision: 0.3354 - val_recall: 1.0000 - lr: 1.0000e-04\n",
      "Epoch 2/5\n",
      "467/467 [==============================] - ETA: 0s - loss: 0.6939 - accuracy: 0.4155 - auc: 0.5015 - precision: 0.3341 - recall: 0.7475\n",
      "Epoch 2: val_loss did not improve from 0.69328\n",
      "467/467 [==============================] - 66s 141ms/step - loss: 0.6939 - accuracy: 0.4155 - auc: 0.5015 - precision: 0.3341 - recall: 0.7475 - val_loss: 0.6933 - val_accuracy: 0.3353 - val_auc: 0.5000 - val_precision: 0.3353 - val_recall: 1.0000 - lr: 1.0000e-04\n",
      "Epoch 3/5\n",
      "467/467 [==============================] - ETA: 0s - loss: 0.6934 - accuracy: 0.4564 - auc: 0.5000 - precision: 0.3304 - recall: 0.6047\n",
      "Epoch 3: val_loss improved from 0.69328 to 0.69319, saving model to best_dense_model.h5\n",
      "467/467 [==============================] - 71s 152ms/step - loss: 0.6934 - accuracy: 0.4564 - auc: 0.5000 - precision: 0.3304 - recall: 0.6047 - val_loss: 0.6932 - val_accuracy: 0.3353 - val_auc: 0.5000 - val_precision: 0.3353 - val_recall: 1.0000 - lr: 1.0000e-04\n",
      "Epoch 4/5\n",
      "467/467 [==============================] - ETA: 0s - loss: 0.6931 - accuracy: 0.4941 - auc: 0.4999 - precision: 0.3291 - recall: 0.4894\n",
      "Epoch 4: val_loss did not improve from 0.69319\n",
      "467/467 [==============================] - 65s 138ms/step - loss: 0.6931 - accuracy: 0.4941 - auc: 0.4999 - precision: 0.3291 - recall: 0.4894 - val_loss: 0.6932 - val_accuracy: 0.3353 - val_auc: 0.5000 - val_precision: 0.3353 - val_recall: 1.0000 - lr: 1.0000e-04\n",
      "Epoch 5/5\n",
      "467/467 [==============================] - ETA: 0s - loss: 0.6931 - accuracy: 0.4856 - auc: 0.5000 - precision: 0.3317 - recall: 0.5258\n",
      "Epoch 5: val_loss did not improve from 0.69319\n",
      "467/467 [==============================] - 64s 138ms/step - loss: 0.6931 - accuracy: 0.4856 - auc: 0.5000 - precision: 0.3317 - recall: 0.5258 - val_loss: 0.6932 - val_accuracy: 0.3353 - val_auc: 0.5000 - val_precision: 0.3353 - val_recall: 1.0000 - lr: 1.0000e-04\n"
     ]
    }
   ],
   "source": [
    "history_dense = model_dense.fit(\n",
    "    train_ds,\n",
    "    epochs=5,\n",
    "    validation_data=val_ds,\n",
    "    class_weight=class_weight,\n",
    "    callbacks=[early_stopping, lr_scheduler, tf.keras.callbacks.ModelCheckpoint(\n",
    "        'best_dense_model.h5',\n",
    "        monitor='val_loss',\n",
    "        save_best_only=True,\n",
    "        verbose=1\n",
    "    )]\n",
    ")"
   ]
  },
  {
   "cell_type": "code",
   "execution_count": 35,
   "id": "31bd5541-bc0f-4b4c-ae43-2d5e4fa504ec",
   "metadata": {},
   "outputs": [
    {
     "name": "stdout",
     "output_type": "stream",
     "text": [
      "100/100 [==============================] - 1s 10ms/step - loss: 0.6932 - accuracy: 0.3356 - auc: 0.5000 - precision: 0.3356 - recall: 1.0000\n",
      "\n",
      "Dense ANN Test Metrics:\n",
      "loss: 0.6932\n",
      "accuracy: 0.3356\n",
      "auc: 0.5000\n",
      "precision: 0.3356\n",
      "recall: 1.0000\n"
     ]
    }
   ],
   "source": [
    "best_dense_model = tf.keras.models.load_model('best_dense_model.h5')\n",
    "test_metrics_dense = best_dense_model.evaluate(test_ds, return_dict=True)\n",
    "print(\"\\nDense ANN Test Metrics:\")\n",
    "for metric_name, value in test_metrics_dense.items():\n",
    "    print(f\"{metric_name}: {value:.4f}\")"
   ]
  },
  {
   "cell_type": "code",
   "execution_count": 36,
   "id": "af706250-2a16-438b-980f-dc963cf5010d",
   "metadata": {},
   "outputs": [],
   "source": [
    "model_lenet = models.Sequential()\n",
    "model_lenet.add(layers.Conv2D(6, (5, 5), activation='relu', input_shape=(150, 150, 3)))\n",
    "model_lenet.add(layers.MaxPooling2D((2, 2)))\n",
    "model_lenet.add(layers.Conv2D(16, (5, 5), activation='relu'))\n",
    "model_lenet.add(layers.MaxPooling2D((2, 2)))\n",
    "model_lenet.add(layers.Flatten())\n",
    "model_lenet.add(layers.Dense(120, activation='relu'))\n",
    "model_lenet.add(layers.Dense(84, activation='relu'))\n",
    "model_lenet.add(layers.Dense(1, activation='sigmoid'))"
   ]
  },
  {
   "cell_type": "code",
   "execution_count": 37,
   "id": "4a2228c5-f98e-4e35-bb7f-6ed691addfc2",
   "metadata": {},
   "outputs": [],
   "source": [
    "model_lenet.compile(\n",
    "    optimizer=optimizers.Adam(learning_rate=1e-4),\n",
    "    loss='binary_crossentropy',\n",
    "    metrics=[\n",
    "        'accuracy',\n",
    "        tf.keras.metrics.AUC(name='auc'),\n",
    "        tf.keras.metrics.Precision(name='precision'),\n",
    "        tf.keras.metrics.Recall(name='recall')\n",
    "    ]\n",
    ")"
   ]
  },
  {
   "cell_type": "code",
   "execution_count": 38,
   "id": "8a3e597b-f9e0-47e9-b3b6-5c547454a553",
   "metadata": {},
   "outputs": [
    {
     "name": "stdout",
     "output_type": "stream",
     "text": [
      "Epoch 1/20\n",
      "467/467 [==============================] - ETA: 0s - loss: 0.5514 - accuracy: 0.7171 - auc: 0.8106 - precision: 0.5566 - recall: 0.7705\n",
      "Epoch 1: val_loss improved from inf to 0.49389, saving model to best_lenet_model.h5\n",
      "467/467 [==============================] - 76s 159ms/step - loss: 0.5514 - accuracy: 0.7171 - auc: 0.8106 - precision: 0.5566 - recall: 0.7705 - val_loss: 0.4939 - val_accuracy: 0.8192 - val_auc: 0.8755 - val_precision: 0.6790 - val_recall: 0.8741 - lr: 1.0000e-04\n",
      "Epoch 2/20\n",
      "467/467 [==============================] - ETA: 0s - loss: 0.4423 - accuracy: 0.8250 - auc: 0.8755 - precision: 0.7067 - recall: 0.8174\n",
      "Epoch 2: val_loss improved from 0.49389 to 0.42407, saving model to best_lenet_model.h5\n",
      "467/467 [==============================] - 75s 161ms/step - loss: 0.4423 - accuracy: 0.8250 - auc: 0.8755 - precision: 0.7067 - recall: 0.8174 - val_loss: 0.4241 - val_accuracy: 0.8408 - val_auc: 0.8915 - val_precision: 0.7187 - val_recall: 0.8629 - lr: 1.0000e-04\n",
      "Epoch 3/20\n",
      "467/467 [==============================] - ETA: 0s - loss: 0.4124 - accuracy: 0.8319 - auc: 0.8931 - precision: 0.7103 - recall: 0.8424\n",
      "Epoch 3: val_loss did not improve from 0.42407\n",
      "467/467 [==============================] - 74s 159ms/step - loss: 0.4124 - accuracy: 0.8319 - auc: 0.8931 - precision: 0.7103 - recall: 0.8424 - val_loss: 0.4292 - val_accuracy: 0.8367 - val_auc: 0.9047 - val_precision: 0.6996 - val_recall: 0.8993 - lr: 1.0000e-04\n",
      "Epoch 4/20\n",
      "467/467 [==============================] - ETA: 0s - loss: 0.3864 - accuracy: 0.8399 - auc: 0.9075 - precision: 0.7208 - recall: 0.8532\n",
      "Epoch 4: val_loss improved from 0.42407 to 0.40636, saving model to best_lenet_model.h5\n",
      "467/467 [==============================] - 76s 162ms/step - loss: 0.3864 - accuracy: 0.8399 - auc: 0.9075 - precision: 0.7208 - recall: 0.8532 - val_loss: 0.4064 - val_accuracy: 0.8392 - val_auc: 0.9158 - val_precision: 0.7045 - val_recall: 0.8965 - lr: 1.0000e-04\n",
      "Epoch 5/20\n",
      "467/467 [==============================] - ETA: 0s - loss: 0.3795 - accuracy: 0.8379 - auc: 0.9110 - precision: 0.7176 - recall: 0.8518\n",
      "Epoch 5: val_loss did not improve from 0.40636\n",
      "467/467 [==============================] - 75s 161ms/step - loss: 0.3795 - accuracy: 0.8379 - auc: 0.9110 - precision: 0.7176 - recall: 0.8518 - val_loss: 0.4787 - val_accuracy: 0.8029 - val_auc: 0.9196 - val_precision: 0.6424 - val_recall: 0.9300 - lr: 1.0000e-04\n",
      "Epoch 6/20\n",
      "467/467 [==============================] - ETA: 0s - loss: 0.3594 - accuracy: 0.8468 - auc: 0.9204 - precision: 0.7310 - recall: 0.8598\n",
      "Epoch 6: val_loss did not improve from 0.40636\n",
      "467/467 [==============================] - 77s 164ms/step - loss: 0.3594 - accuracy: 0.8468 - auc: 0.9204 - precision: 0.7310 - recall: 0.8598 - val_loss: 0.4485 - val_accuracy: 0.8070 - val_auc: 0.9269 - val_precision: 0.6484 - val_recall: 0.9272 - lr: 1.0000e-04\n",
      "Epoch 7/20\n",
      "467/467 [==============================] - ETA: 0s - loss: 0.3374 - accuracy: 0.8551 - auc: 0.9300 - precision: 0.7445 - recall: 0.8648\n",
      "Epoch 7: val_loss improved from 0.40636 to 0.33030, saving model to best_lenet_model.h5\n",
      "467/467 [==============================] - 77s 164ms/step - loss: 0.3374 - accuracy: 0.8551 - auc: 0.9300 - precision: 0.7445 - recall: 0.8648 - val_loss: 0.3303 - val_accuracy: 0.8605 - val_auc: 0.9405 - val_precision: 0.7408 - val_recall: 0.8983 - lr: 1.0000e-04\n",
      "Epoch 8/20\n",
      "467/467 [==============================] - ETA: 0s - loss: 0.3379 - accuracy: 0.8527 - auc: 0.9294 - precision: 0.7393 - recall: 0.8662\n",
      "Epoch 8: val_loss did not improve from 0.33030\n",
      "467/467 [==============================] - 76s 162ms/step - loss: 0.3379 - accuracy: 0.8527 - auc: 0.9294 - precision: 0.7393 - recall: 0.8662 - val_loss: 0.3679 - val_accuracy: 0.8445 - val_auc: 0.9428 - val_precision: 0.7029 - val_recall: 0.9291 - lr: 1.0000e-04\n",
      "Epoch 9/20\n",
      "467/467 [==============================] - ETA: 0s - loss: 0.3132 - accuracy: 0.8661 - auc: 0.9396 - precision: 0.7618 - recall: 0.8742\n",
      "Epoch 9: val_loss improved from 0.33030 to 0.29364, saving model to best_lenet_model.h5\n",
      "467/467 [==============================] - 75s 161ms/step - loss: 0.3132 - accuracy: 0.8661 - auc: 0.9396 - precision: 0.7618 - recall: 0.8742 - val_loss: 0.2936 - val_accuracy: 0.8733 - val_auc: 0.9537 - val_precision: 0.7632 - val_recall: 0.9021 - lr: 1.0000e-04\n",
      "Epoch 10/20\n",
      "467/467 [==============================] - ETA: 0s - loss: 0.2969 - accuracy: 0.8754 - auc: 0.9461 - precision: 0.7781 - recall: 0.8795\n",
      "Epoch 10: val_loss did not improve from 0.29364\n",
      "467/467 [==============================] - 76s 161ms/step - loss: 0.2969 - accuracy: 0.8754 - auc: 0.9461 - precision: 0.7781 - recall: 0.8795 - val_loss: 0.3250 - val_accuracy: 0.8639 - val_auc: 0.9518 - val_precision: 0.7400 - val_recall: 0.9160 - lr: 1.0000e-04\n",
      "Epoch 11/20\n",
      "467/467 [==============================] - ETA: 0s - loss: 0.2830 - accuracy: 0.8797 - auc: 0.9510 - precision: 0.7872 - recall: 0.8791\n",
      "Epoch 11: val_loss did not improve from 0.29364\n",
      "467/467 [==============================] - 75s 161ms/step - loss: 0.2830 - accuracy: 0.8797 - auc: 0.9510 - precision: 0.7872 - recall: 0.8791 - val_loss: 0.3418 - val_accuracy: 0.8546 - val_auc: 0.9560 - val_precision: 0.7182 - val_recall: 0.9319 - lr: 9.0484e-05\n",
      "Epoch 12/20\n",
      "467/467 [==============================] - ETA: 0s - loss: 0.2594 - accuracy: 0.8918 - auc: 0.9589 - precision: 0.8054 - recall: 0.8931\n",
      "Epoch 12: val_loss did not improve from 0.29364\n",
      "467/467 [==============================] - 75s 160ms/step - loss: 0.2594 - accuracy: 0.8918 - auc: 0.9589 - precision: 0.8054 - recall: 0.8931 - val_loss: 0.4497 - val_accuracy: 0.8058 - val_auc: 0.9224 - val_precision: 0.6512 - val_recall: 0.9058 - lr: 8.1873e-05\n",
      "Epoch 13/20\n",
      "467/467 [==============================] - ETA: 0s - loss: 0.2496 - accuracy: 0.8972 - auc: 0.9620 - precision: 0.8146 - recall: 0.8977\n",
      "Epoch 13: val_loss did not improve from 0.29364\n",
      "467/467 [==============================] - 75s 160ms/step - loss: 0.2496 - accuracy: 0.8972 - auc: 0.9620 - precision: 0.8146 - recall: 0.8977 - val_loss: 0.3554 - val_accuracy: 0.8530 - val_auc: 0.9595 - val_precision: 0.7114 - val_recall: 0.9450 - lr: 7.4082e-05\n",
      "Epoch 14/20\n",
      "467/467 [==============================] - ETA: 0s - loss: 0.2357 - accuracy: 0.9016 - auc: 0.9663 - precision: 0.8227 - recall: 0.9009Restoring model weights from the end of the best epoch: 9.\n",
      "\n",
      "Epoch 14: val_loss did not improve from 0.29364\n",
      "467/467 [==============================] - 75s 160ms/step - loss: 0.2357 - accuracy: 0.9016 - auc: 0.9663 - precision: 0.8227 - recall: 0.9009 - val_loss: 0.3173 - val_accuracy: 0.8674 - val_auc: 0.9626 - val_precision: 0.7372 - val_recall: 0.9394 - lr: 6.7032e-05\n",
      "Epoch 14: early stopping\n"
     ]
    }
   ],
   "source": [
    "history_lenet = model_lenet.fit(\n",
    "    train_ds,\n",
    "    epochs=20,\n",
    "    validation_data=val_ds,\n",
    "    class_weight=class_weight,\n",
    "    callbacks=[early_stopping, lr_scheduler, tf.keras.callbacks.ModelCheckpoint(\n",
    "        'best_lenet_model.h5',\n",
    "        monitor='val_loss',\n",
    "        save_best_only=True,\n",
    "        verbose=1\n",
    "    )]\n",
    ")"
   ]
  },
  {
   "cell_type": "code",
   "execution_count": 39,
   "id": "a32263e2-4501-4b6b-8e17-35528c788f80",
   "metadata": {},
   "outputs": [
    {
     "name": "stdout",
     "output_type": "stream",
     "text": [
      "100/100 [==============================] - 2s 22ms/step - loss: 0.2682 - accuracy: 0.8947 - auc: 0.9628 - precision: 0.7936 - recall: 0.9274\n",
      "\n",
      "LeNet-5 Test Metrics:\n",
      "loss: 0.2682\n",
      "accuracy: 0.8947\n",
      "auc: 0.9628\n",
      "precision: 0.7936\n",
      "recall: 0.9274\n"
     ]
    }
   ],
   "source": [
    "best_lenet_model = tf.keras.models.load_model('best_lenet_model.h5')\n",
    "test_metrics_lenet = best_lenet_model.evaluate(test_ds, return_dict=True)\n",
    "print(\"\\nLeNet-5 Test Metrics:\")\n",
    "for metric_name, value in test_metrics_lenet.items():\n",
    "    print(f\"{metric_name}: {value:.4f}\")"
   ]
  },
  {
   "cell_type": "code",
   "execution_count": 40,
   "id": "12175125-f7ff-4a2a-a685-0db06094a535",
   "metadata": {},
   "outputs": [],
   "source": [
    "model_paper = models.Sequential(name=\"Paper_CNN\")\n",
    "model_paper.add(layers.Conv2D(32, (3, 3), activation='relu', input_shape=(150, 150, 3)))\n",
    "model_paper.add(layers.MaxPooling2D((2, 2)))\n",
    "model_paper.add(layers.Conv2D(64, (3, 3), activation='relu'))\n",
    "model_paper.add(layers.MaxPooling2D((2, 2)))\n",
    "model_paper.add(layers.Conv2D(128, (3, 3), activation='relu'))\n",
    "model_paper.add(layers.MaxPooling2D((2, 2)))\n",
    "model_paper.add(layers.Conv2D(128, (3, 3), activation='relu'))\n",
    "model_paper.add(layers.MaxPooling2D((2, 2)))\n",
    "model_paper.add(layers.Flatten())\n",
    "model_paper.add(layers.Dropout(0.5))\n",
    "model_paper.add(layers.Dense(512, activation='relu'))\n",
    "model_paper.add(layers.Dense(1, activation='sigmoid'))"
   ]
  },
  {
   "cell_type": "code",
   "execution_count": 41,
   "id": "546a7193-ffbf-4464-9e2d-62288dba8eff",
   "metadata": {},
   "outputs": [],
   "source": [
    "model_paper.compile(\n",
    "    optimizer=optimizers.Adam(learning_rate=1e-4),\n",
    "    loss='binary_crossentropy',\n",
    "    metrics=[\n",
    "        'accuracy',\n",
    "        tf.keras.metrics.AUC(name='auc'),\n",
    "        tf.keras.metrics.Precision(name='precision'),\n",
    "        tf.keras.metrics.Recall(name='recall')\n",
    "    ]\n",
    ")"
   ]
  },
  {
   "cell_type": "code",
   "execution_count": 42,
   "id": "115085d1-8ceb-42c6-9c2d-c15921ca63b4",
   "metadata": {},
   "outputs": [
    {
     "name": "stdout",
     "output_type": "stream",
     "text": [
      "Epoch 1/20\n",
      "467/467 [==============================] - ETA: 0s - loss: 0.4837 - accuracy: 0.7533 - auc: 0.8557 - precision: 0.5968 - recall: 0.8154\n",
      "Epoch 1: val_loss improved from inf to 0.35584, saving model to best_paper_model.h5\n",
      "467/467 [==============================] - 157s 333ms/step - loss: 0.4837 - accuracy: 0.7533 - auc: 0.8557 - precision: 0.5968 - recall: 0.8154 - val_loss: 0.3558 - val_accuracy: 0.8714 - val_auc: 0.9239 - val_precision: 0.7707 - val_recall: 0.8778 - lr: 1.0000e-04\n",
      "Epoch 2/20\n",
      "467/467 [==============================] - ETA: 0s - loss: 0.3026 - accuracy: 0.8868 - auc: 0.9433 - precision: 0.8053 - recall: 0.8736\n",
      "Epoch 2: val_loss did not improve from 0.35584\n",
      "467/467 [==============================] - 155s 331ms/step - loss: 0.3026 - accuracy: 0.8868 - auc: 0.9433 - precision: 0.8053 - recall: 0.8736 - val_loss: 0.3655 - val_accuracy: 0.8502 - val_auc: 0.9589 - val_precision: 0.7078 - val_recall: 0.9422 - lr: 1.0000e-04\n",
      "Epoch 3/20\n",
      "467/467 [==============================] - ETA: 0s - loss: 0.2002 - accuracy: 0.9246 - auc: 0.9759 - precision: 0.8705 - recall: 0.9107\n",
      "Epoch 3: val_loss did not improve from 0.35584\n",
      "467/467 [==============================] - 157s 336ms/step - loss: 0.2002 - accuracy: 0.9246 - auc: 0.9759 - precision: 0.8705 - recall: 0.9107 - val_loss: 0.3619 - val_accuracy: 0.8564 - val_auc: 0.9740 - val_precision: 0.7098 - val_recall: 0.9674 - lr: 1.0000e-04\n",
      "Epoch 4/20\n",
      "467/467 [==============================] - ETA: 0s - loss: 0.1781 - accuracy: 0.9303 - auc: 0.9808 - precision: 0.8770 - recall: 0.9215\n",
      "Epoch 4: val_loss improved from 0.35584 to 0.20973, saving model to best_paper_model.h5\n",
      "467/467 [==============================] - 157s 336ms/step - loss: 0.1781 - accuracy: 0.9303 - auc: 0.9808 - precision: 0.8770 - recall: 0.9215 - val_loss: 0.2097 - val_accuracy: 0.9240 - val_auc: 0.9765 - val_precision: 0.8522 - val_recall: 0.9356 - lr: 1.0000e-04\n",
      "Epoch 5/20\n",
      "467/467 [==============================] - ETA: 0s - loss: 0.1603 - accuracy: 0.9400 - auc: 0.9842 - precision: 0.8943 - recall: 0.9313\n",
      "Epoch 5: val_loss improved from 0.20973 to 0.15050, saving model to best_paper_model.h5\n",
      "467/467 [==============================] - 156s 334ms/step - loss: 0.1603 - accuracy: 0.9400 - auc: 0.9842 - precision: 0.8943 - recall: 0.9313 - val_loss: 0.1505 - val_accuracy: 0.9434 - val_auc: 0.9857 - val_precision: 0.9010 - val_recall: 0.9338 - lr: 1.0000e-04\n",
      "Epoch 6/20\n",
      "467/467 [==============================] - ETA: 0s - loss: 0.1469 - accuracy: 0.9468 - auc: 0.9865 - precision: 0.9044 - recall: 0.9409\n",
      "Epoch 6: val_loss did not improve from 0.15050\n",
      "467/467 [==============================] - 158s 337ms/step - loss: 0.1469 - accuracy: 0.9468 - auc: 0.9865 - precision: 0.9044 - recall: 0.9409 - val_loss: 0.1848 - val_accuracy: 0.9349 - val_auc: 0.9782 - val_precision: 0.8823 - val_recall: 0.9300 - lr: 1.0000e-04\n",
      "Epoch 7/20\n",
      "467/467 [==============================] - ETA: 0s - loss: 0.1424 - accuracy: 0.9454 - auc: 0.9874 - precision: 0.9012 - recall: 0.9403\n",
      "Epoch 7: val_loss improved from 0.15050 to 0.13184, saving model to best_paper_model.h5\n",
      "467/467 [==============================] - 158s 337ms/step - loss: 0.1424 - accuracy: 0.9454 - auc: 0.9874 - precision: 0.9012 - recall: 0.9403 - val_loss: 0.1318 - val_accuracy: 0.9496 - val_auc: 0.9872 - val_precision: 0.9214 - val_recall: 0.9291 - lr: 1.0000e-04\n",
      "Epoch 8/20\n",
      "467/467 [==============================] - ETA: 0s - loss: 0.1350 - accuracy: 0.9497 - auc: 0.9886 - precision: 0.9092 - recall: 0.9445\n",
      "Epoch 8: val_loss did not improve from 0.13184\n",
      "467/467 [==============================] - 156s 335ms/step - loss: 0.1350 - accuracy: 0.9497 - auc: 0.9886 - precision: 0.9092 - recall: 0.9445 - val_loss: 0.1427 - val_accuracy: 0.9462 - val_auc: 0.9885 - val_precision: 0.8927 - val_recall: 0.9543 - lr: 1.0000e-04\n",
      "Epoch 9/20\n",
      "467/467 [==============================] - ETA: 0s - loss: 0.1323 - accuracy: 0.9507 - auc: 0.9892 - precision: 0.9079 - recall: 0.9493\n",
      "Epoch 9: val_loss did not improve from 0.13184\n",
      "467/467 [==============================] - 157s 335ms/step - loss: 0.1323 - accuracy: 0.9507 - auc: 0.9892 - precision: 0.9079 - recall: 0.9493 - val_loss: 0.1323 - val_accuracy: 0.9490 - val_auc: 0.9892 - val_precision: 0.9076 - val_recall: 0.9440 - lr: 1.0000e-04\n",
      "Epoch 10/20\n",
      "467/467 [==============================] - ETA: 0s - loss: 0.1297 - accuracy: 0.9497 - auc: 0.9896 - precision: 0.9067 - recall: 0.9477\n",
      "Epoch 10: val_loss did not improve from 0.13184\n",
      "467/467 [==============================] - 156s 333ms/step - loss: 0.1297 - accuracy: 0.9497 - auc: 0.9896 - precision: 0.9067 - recall: 0.9477 - val_loss: 0.1872 - val_accuracy: 0.9293 - val_auc: 0.9860 - val_precision: 0.8462 - val_recall: 0.9646 - lr: 1.0000e-04\n",
      "Epoch 11/20\n",
      "467/467 [==============================] - ETA: 0s - loss: 0.1179 - accuracy: 0.9542 - auc: 0.9911 - precision: 0.9138 - recall: 0.9535\n",
      "Epoch 11: val_loss improved from 0.13184 to 0.11419, saving model to best_paper_model.h5\n",
      "467/467 [==============================] - 157s 335ms/step - loss: 0.1179 - accuracy: 0.9542 - auc: 0.9911 - precision: 0.9138 - recall: 0.9535 - val_loss: 0.1142 - val_accuracy: 0.9565 - val_auc: 0.9908 - val_precision: 0.9765 - val_recall: 0.8918 - lr: 9.0484e-05\n",
      "Epoch 12/20\n",
      "467/467 [==============================] - ETA: 0s - loss: 0.1157 - accuracy: 0.9552 - auc: 0.9916 - precision: 0.9158 - recall: 0.9543\n",
      "Epoch 12: val_loss improved from 0.11419 to 0.10063, saving model to best_paper_model.h5\n",
      "467/467 [==============================] - 157s 335ms/step - loss: 0.1157 - accuracy: 0.9552 - auc: 0.9916 - precision: 0.9158 - recall: 0.9543 - val_loss: 0.1006 - val_accuracy: 0.9631 - val_auc: 0.9922 - val_precision: 0.9368 - val_recall: 0.9543 - lr: 8.1873e-05\n",
      "Epoch 13/20\n",
      "467/467 [==============================] - ETA: 0s - loss: 0.1104 - accuracy: 0.9569 - auc: 0.9922 - precision: 0.9191 - recall: 0.9557\n",
      "Epoch 13: val_loss did not improve from 0.10063\n",
      "467/467 [==============================] - 156s 334ms/step - loss: 0.1104 - accuracy: 0.9569 - auc: 0.9922 - precision: 0.9191 - recall: 0.9557 - val_loss: 0.1577 - val_accuracy: 0.9418 - val_auc: 0.9875 - val_precision: 0.8786 - val_recall: 0.9590 - lr: 7.4082e-05\n",
      "Epoch 14/20\n",
      "467/467 [==============================] - ETA: 0s - loss: 0.1044 - accuracy: 0.9591 - auc: 0.9931 - precision: 0.9225 - recall: 0.9586\n",
      "Epoch 14: val_loss did not improve from 0.10063\n",
      "467/467 [==============================] - 156s 335ms/step - loss: 0.1044 - accuracy: 0.9591 - auc: 0.9931 - precision: 0.9225 - recall: 0.9586 - val_loss: 0.1071 - val_accuracy: 0.9562 - val_auc: 0.9905 - val_precision: 0.9614 - val_recall: 0.9058 - lr: 6.7032e-05\n",
      "Epoch 15/20\n",
      "467/467 [==============================] - ETA: 0s - loss: 0.1024 - accuracy: 0.9605 - auc: 0.9933 - precision: 0.9245 - recall: 0.9608\n",
      "Epoch 15: val_loss did not improve from 0.10063\n",
      "467/467 [==============================] - 156s 333ms/step - loss: 0.1024 - accuracy: 0.9605 - auc: 0.9933 - precision: 0.9245 - recall: 0.9608 - val_loss: 0.1153 - val_accuracy: 0.9543 - val_auc: 0.9894 - val_precision: 0.9426 - val_recall: 0.9198 - lr: 6.0653e-05\n",
      "Epoch 16/20\n",
      "467/467 [==============================] - ETA: 0s - loss: 0.0973 - accuracy: 0.9625 - auc: 0.9938 - precision: 0.9300 - recall: 0.9604\n",
      "Epoch 16: val_loss did not improve from 0.10063\n",
      "467/467 [==============================] - 156s 335ms/step - loss: 0.0973 - accuracy: 0.9625 - auc: 0.9938 - precision: 0.9300 - recall: 0.9604 - val_loss: 0.1206 - val_accuracy: 0.9556 - val_auc: 0.9890 - val_precision: 0.9227 - val_recall: 0.9468 - lr: 5.4881e-05\n",
      "Epoch 17/20\n",
      "467/467 [==============================] - ETA: 0s - loss: 0.0945 - accuracy: 0.9638 - auc: 0.9940 - precision: 0.9302 - recall: 0.9642Restoring model weights from the end of the best epoch: 12.\n",
      "\n",
      "Epoch 17: val_loss did not improve from 0.10063\n",
      "467/467 [==============================] - 160s 341ms/step - loss: 0.0945 - accuracy: 0.9638 - auc: 0.9940 - precision: 0.9302 - recall: 0.9642 - val_loss: 0.1225 - val_accuracy: 0.9534 - val_auc: 0.9893 - val_precision: 0.9169 - val_recall: 0.9468 - lr: 4.9659e-05\n",
      "Epoch 17: early stopping\n"
     ]
    }
   ],
   "source": [
    "history_paper_model = model_paper.fit(\n",
    "    train_ds,\n",
    "    epochs=20,\n",
    "    validation_data=val_ds,\n",
    "    class_weight=class_weight,\n",
    "    callbacks=[early_stopping, lr_scheduler, tf.keras.callbacks.ModelCheckpoint(\n",
    "        'best_paper_model.h5',\n",
    "        monitor='val_loss',\n",
    "        save_best_only=True,\n",
    "        verbose=1\n",
    "    )]\n",
    ")"
   ]
  },
  {
   "cell_type": "code",
   "execution_count": 43,
   "id": "385bde74-b822-4ecf-a221-0bf574280c0f",
   "metadata": {},
   "outputs": [
    {
     "name": "stdout",
     "output_type": "stream",
     "text": [
      "100/100 [==============================] - 8s 80ms/step - loss: 0.0889 - accuracy: 0.9669 - auc: 0.9953 - precision: 0.9337 - recall: 0.9702\n",
      "\n",
      "Paper CNN Test Metrics:\n",
      "loss: 0.0889\n",
      "accuracy: 0.9669\n",
      "auc: 0.9953\n",
      "precision: 0.9337\n",
      "recall: 0.9702\n"
     ]
    }
   ],
   "source": [
    "best_paper_model = tf.keras.models.load_model('best_paper_model.h5')\n",
    "test_metrics_paper = best_paper_model.evaluate(test_ds, return_dict=True)\n",
    "print(\"\\nPaper CNN Test Metrics:\")\n",
    "for metric_name, value in test_metrics_paper.items():\n",
    "    print(f\"{metric_name}: {value:.4f}\")"
   ]
  },
  {
   "cell_type": "code",
   "execution_count": 48,
   "id": "704142b8-1710-45ac-8b92-680423fbbd48",
   "metadata": {},
   "outputs": [
    {
     "data": {
      "image/png": "[encoded data removed]",
      "text/plain": [
       "<Figure size 1200x800 with 1 Axes>"
      ]
     },
     "metadata": {},
     "output_type": "display_data"
    }
   ],
   "source": [
    "import matplotlib.pyplot as plt\n",
    "\n",
    "models = ['Dense ANN', 'LeNet-5', 'Paper CNN']\n",
    "accuracy = [test_metrics_dense['accuracy'], test_metrics_lenet['accuracy'], test_metrics_paper['accuracy']]\n",
    "auc = [test_metrics_dense['auc'], test_metrics_lenet['auc'], test_metrics_paper['auc']]\n",
    "precision = [test_metrics_dense['precision'], test_metrics_lenet['precision'], test_metrics_paper['precision']]\n",
    "recall = [test_metrics_dense['recall'], test_metrics_lenet['recall'], test_metrics_paper['recall']]\n",
    "\n",
    "fig, ax = plt.subplots(figsize=(12, 8))\n",
    "bar_width = 0.2\n",
    "index = np.arange(len(models))\n",
    "\n",
    "bar1 = ax.bar(index, accuracy, bar_width, label='Accuracy')\n",
    "bar2 = ax.bar(index + bar_width, auc, bar_width, label='AUC')\n",
    "bar3 = ax.bar(index + 2*bar_width, precision, bar_width, label='Precision')\n",
    "bar4 = ax.bar(index + 3*bar_width, recall, bar_width, label='Recall')\n",
    "\n",
    "ax.set_xlabel('Models')\n",
    "ax.set_ylabel('Scores')\n",
    "ax.set_title('Model Performance Comparison')\n",
    "ax.set_xticks(index + bar_width * 1.5)\n",
    "ax.set_xticklabels(models)\n",
    "ax.legend()\n",
    "\n",
    "plt.tight_layout()\n",
    "plt.savefig('model_comparison.png')\n",
    "plt.show()\n",
    "\n",
    "#Used Sonnet 3.7 to help with designing this plot as I wanted to see all the metrics of the models in one place"
   ]
  },
  {
   "cell_type": "code",
   "execution_count": 49,
   "id": "d67eccaa-4eab-49f5-8dec-538a351e8406",
   "metadata": {},
   "outputs": [
    {
     "name": "stderr",
     "output_type": "stream",
     "text": [
      "/usr/local/lib/python3.11/site-packages/keras/src/engine/training.py:3103: UserWarning: You are saving your model as an HDF5 file via `model.save()`. This file format is considered legacy. We recommend using instead the native Keras format, e.g. `model.save('my_model.keras')`.\n",
      "  saving_api.save_model(\n"
     ]
    },
    {
     "name": "stdout",
     "output_type": "stream",
     "text": [
      "Best model saved as 'final_best_model.h5'\n"
     ]
    }
   ],
   "source": [
    "best_model = best_paper_model \n",
    "best_model.save('final_best_model.h5')\n",
    "print(\"Best model saved as 'final_best_model.h5'\")"
   ]
  },
  {
   "cell_type": "code",
   "execution_count": null,
   "id": "1d0f4eec-4492-4bd5-a41f-05af066a0cbb",
   "metadata": {},
   "outputs": [],
   "source": []
  }
 ],
 "metadata": {
  "kernelspec": {
   "display_name": "Python 3 (ipykernel)",
   "language": "python",
   "name": "python3"
  },
  "language_info": {
   "codemirror_mode": {
    "name": "ipython",
    "version": 3
   },
   "file_extension": ".py",
   "mimetype": "text/x-python",
   "name": "python",
   "nbconvert_exporter": "python",
   "pygments_lexer": "ipython3",
   "version": "3.11.1"
  }
 },
 "nbformat": 4,
 "nbformat_minor": 5
}
